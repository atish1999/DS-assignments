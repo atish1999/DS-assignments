{
 "cells": [
  {
   "cell_type": "markdown",
   "id": "cf2fe767",
   "metadata": {},
   "source": [
    "Q1. Create a function which will take a list as an argument and return the product of all the numbers after creating a flat list. Use the below-given list as an argument for your function.\n",
    "\n",
    "list1 = [1,2,3,4, [44,55,66, True], False, (34,56,78,89,34), {1,2,3,3,2,1}, {1:34, \"key2\": [55, 67, 78, 89], 4: (45,22, 61, 34)}, [56, 'data science'], 'Machine Learning']\n",
    "\n",
    "Note: you must extract numeric keys and values of the dictionary also."
   ]
  },
  {
   "cell_type": "code",
   "execution_count": 48,
   "id": "f901f318",
   "metadata": {},
   "outputs": [],
   "source": [
    "def linear_extractor(l):\n",
    "    return [i for i in l if type(i) == int]\n",
    "#     return list(filter(lambda x: type(x)==int, l))\n",
    "            "
   ]
  },
  {
   "cell_type": "code",
   "execution_count": 69,
   "id": "b1485f30",
   "metadata": {},
   "outputs": [],
   "source": [
    "def nonlinear_extractor(d):\n",
    "    l = []\n",
    "    for k,v in d.items():\n",
    "        if type(k) == int:\n",
    "            l.append(k)\n",
    "        elif type(k) == tuple:\n",
    "            l.extend(linear_extractor(k))\n",
    "            \n",
    "        if type(v) == int:\n",
    "            l.append(v)\n",
    "        elif type(v) == list or type(v) == tuple or type(v) == set:\n",
    "            l.extend(linear_extractor(v))\n",
    "    return l"
   ]
  },
  {
   "cell_type": "code",
   "execution_count": 76,
   "id": "96517c73",
   "metadata": {},
   "outputs": [],
   "source": [
    "from functools import reduce\n",
    "\n",
    "def extract(l):\n",
    "    l1 = []\n",
    "    \n",
    "    for i in l:\n",
    "        _t = type(i)\n",
    "        if _t == int:\n",
    "            l1.append(i)\n",
    "        elif _t == list or _t == tuple or _t == set:\n",
    "            l1.extend(linear_extractor(i))\n",
    "        elif _t == dict:\n",
    "            l1.extend(nonlinear_extractor(i))\n",
    "    print(\"elements of flat list\")\n",
    "    for i in l1:\n",
    "        print(i, end=\" \")\n",
    "    \n",
    "    return reduce(lambda x,y: x*y, l1)"
   ]
  },
  {
   "cell_type": "code",
   "execution_count": 71,
   "id": "af710303",
   "metadata": {},
   "outputs": [],
   "source": [
    "list1 = [1,2,3,4, \n",
    "         [44,55,66, True], \n",
    "         False, \n",
    "         (34,56,78,89,34), \n",
    "         {1,2,3,3,2,1}, \n",
    "         {  1:34, \n",
    "            \"key2\": [55, 67, 78, 89], \n",
    "            4: (45,22, 61, 34)\n",
    "         }, \n",
    "         [56, 'data science'], \n",
    "         'Machine Learning']"
   ]
  },
  {
   "cell_type": "code",
   "execution_count": 77,
   "id": "b7a22d68",
   "metadata": {},
   "outputs": [
    {
     "name": "stdout",
     "output_type": "stream",
     "text": [
      "elements of flat list\n",
      "1 2 3 4 44 55 66 34 56 78 89 34 1 2 3 1 34 55 67 78 89 4 45 22 61 34 56 \n",
      " 4134711838987085478833841242112000\n"
     ]
    }
   ],
   "source": [
    "product = extract(list1)"
   ]
  },
  {
   "cell_type": "code",
   "execution_count": 73,
   "id": "e33bc244",
   "metadata": {},
   "outputs": [
    {
     "name": "stdout",
     "output_type": "stream",
     "text": [
      "4134711838987085478833841242112000\n"
     ]
    }
   ],
   "source": [
    "print(product)"
   ]
  },
  {
   "cell_type": "markdown",
   "id": "f38ea08a",
   "metadata": {},
   "source": [
    "Q2. Write a python program for encrypting a message sent to you by your friend. The logic of encryption should be such that, \n",
    "for a the output should be z. \n",
    "For b, the output should be y. \n",
    "For c, the output should be x respectively. \n",
    "Also, the whitespace should be replaced with a dollar sign.\n",
    "Keep the punctuation marks unchanged.\n",
    "\n",
    "Input Sentence: I want to become a Data Scientist.\n",
    "\n",
    "Encrypt the above input sentence using the program you just created.\n",
    "\n",
    "Note: Convert the given input sentence into lowercase before encrypting. The final output should be\n",
    "lowercase."
   ]
  },
  {
   "cell_type": "code",
   "execution_count": 54,
   "id": "f73178c5",
   "metadata": {},
   "outputs": [],
   "source": [
    "def encryptHelper(_input):\n",
    "    \n",
    "    _input = list(_input.lower())\n",
    "    \n",
    "    res = []\n",
    "    \n",
    "    for i in _input:\n",
    "        if i == ' ':\n",
    "            res.append('$')\n",
    "        elif i == 'a':\n",
    "            res.append('z')\n",
    "        elif i == 'b':\n",
    "            res.append('y')\n",
    "        elif i == 'c':\n",
    "            res.append('x')\n",
    "        else:\n",
    "            res.append(i)\n",
    "            \n",
    "    encrypted_message = \"\".join(res)\n",
    "    return encrypted_message\n",
    "        \n",
    "        "
   ]
  },
  {
   "cell_type": "code",
   "execution_count": 55,
   "id": "aec64ced",
   "metadata": {},
   "outputs": [],
   "source": [
    "def encrypt():\n",
    "    ip = input()\n",
    "    encrypted_message = encryptHelper(ip)\n",
    "    print(encrypted_message)\n",
    "    "
   ]
  },
  {
   "cell_type": "code",
   "execution_count": 56,
   "id": "659aa598",
   "metadata": {},
   "outputs": [
    {
     "name": "stdout",
     "output_type": "stream",
     "text": [
      "I want to become a Data Scientist.\n",
      "i$wznt$to$yexome$z$dztz$sxientist.\n"
     ]
    }
   ],
   "source": [
    "encrypt()"
   ]
  },
  {
   "cell_type": "code",
   "execution_count": 85,
   "id": "a8b7f87c",
   "metadata": {},
   "outputs": [
    {
     "name": "stdout",
     "output_type": "stream",
     "text": [
      "0 tic\n",
      "1 tac\n",
      "2 toe\n"
     ]
    }
   ],
   "source": [
    "for i, v in enumerate(['tic', 'tac', 'toe']):\n",
    "    print(i, v)"
   ]
  },
  {
   "cell_type": "code",
   "execution_count": null,
   "id": "9064d3e1",
   "metadata": {},
   "outputs": [],
   "source": []
  }
 ],
 "metadata": {
  "kernelspec": {
   "display_name": "Python 3 (ipykernel)",
   "language": "python",
   "name": "python3"
  },
  "language_info": {
   "codemirror_mode": {
    "name": "ipython",
    "version": 3
   },
   "file_extension": ".py",
   "mimetype": "text/x-python",
   "name": "python",
   "nbconvert_exporter": "python",
   "pygments_lexer": "ipython3",
   "version": "3.9.13"
  }
 },
 "nbformat": 4,
 "nbformat_minor": 5
}
