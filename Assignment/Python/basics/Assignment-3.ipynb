{
 "cells": [
  {
   "cell_type": "markdown",
   "id": "fa80c8ef",
   "metadata": {},
   "source": [
    "Q1. Explain with an example each when to use a for loop and a while loop."
   ]
  },
  {
   "cell_type": "markdown",
   "id": "6de400f5",
   "metadata": {},
   "source": [
    "for loop usage time: \n",
    "for loop is used only when we know the number of iterations\n",
    "i.e. for printing 10 natural numbers. here we know that there will be 10 iterations\n",
    "here we can use for loop"
   ]
  },
  {
   "cell_type": "code",
   "execution_count": 24,
   "id": "286c9b09",
   "metadata": {},
   "outputs": [
    {
     "name": "stdout",
     "output_type": "stream",
     "text": [
      "1 2 3 4 5 6 7 8 9 10 "
     ]
    }
   ],
   "source": [
    "# example:\n",
    "for i in range(10):\n",
    "    print(i+1, end= \" \")"
   ]
  },
  {
   "cell_type": "markdown",
   "id": "e28e1541",
   "metadata": {},
   "source": [
    "while loop usage time: while loop is used when we don't know the number of iterations\n",
    "i.e for counting the digits of a number. in this case we only know the stopping conditions\n",
    "of loop. but a number can consist any number of digits. based on that while loop will be \n",
    "iterating those number of times.\n"
   ]
  },
  {
   "cell_type": "code",
   "execution_count": 2,
   "id": "68f3f332",
   "metadata": {},
   "outputs": [
    {
     "name": "stdout",
     "output_type": "stream",
     "text": [
      "Total number of digits: 16\n"
     ]
    }
   ],
   "source": [
    "# example:\n",
    "num = 1234413425432523\n",
    "digits = 0\n",
    "while num > 0:\n",
    "    rem = num % 10\n",
    "    num //= 10\n",
    "    digits += 1\n",
    "print(\"Total number of digits:\", digits)"
   ]
  },
  {
   "cell_type": "markdown",
   "id": "8784e934",
   "metadata": {},
   "source": [
    "Q2. Write a python program to print the sum and product of the first 10 natural numbers using for and while loop."
   ]
  },
  {
   "cell_type": "code",
   "execution_count": 2,
   "id": "b709806d",
   "metadata": {},
   "outputs": [
    {
     "name": "stdout",
     "output_type": "stream",
     "text": [
      "sum: 55 and product: 3628800\n"
     ]
    }
   ],
   "source": [
    "# using for loop to caluclate sum and product\n",
    "_sum, _prod = 0,1\n",
    "\n",
    "for i in range(10):\n",
    "    _sum , _prod = _sum + (i+1), _prod * (i+1)\n",
    "\n",
    "print(f\"sum: {_sum} and product: {_prod}\")\n"
   ]
  },
  {
   "cell_type": "code",
   "execution_count": 2,
   "id": "07746b45",
   "metadata": {},
   "outputs": [
    {
     "name": "stdout",
     "output_type": "stream",
     "text": [
      "sum: 55 and product: 3628800\n"
     ]
    }
   ],
   "source": [
    "# using while loop to caluclate sum and product\n",
    "_sum, _prod = 0,1\n",
    "i = 0\n",
    "\n",
    "while i < 10:\n",
    "    _sum , _prod = _sum + (i+1), _prod * (i+1)\n",
    "    i += 1\n",
    "\n",
    "print(f\"sum: {_sum} and product: {_prod}\")"
   ]
  },
  {
   "cell_type": "markdown",
   "id": "e38ce233",
   "metadata": {},
   "source": [
    "Q3. Create a python program to compute the electricity bill for a household.\n",
    "The per-unit charges in rupees are as follows: \n",
    "For the first 100 units, the user will be charged Rs. 4.5 per unit, \n",
    "for the next 100 units, the user will be charged Rs. 6 per unit, \n",
    "and for the next 100 units, the user will be charged Rs. 10 per unit, \n",
    "After 300 units and above the user will be charged Rs. 20 per unit.\n",
    "\n",
    "You are required to take the units of electricity consumed in a month from the user as input.\n",
    "\n",
    "Your program must pass this test case: \n",
    "\n",
    "when the unit of electricity consumed by the user in a month is 310, the total electricity bill should be 2250."
   ]
  },
  {
   "cell_type": "code",
   "execution_count": 15,
   "id": "dccdac17",
   "metadata": {},
   "outputs": [
    {
     "name": "stdout",
     "output_type": "stream",
     "text": [
      "Enter input units: 310\n",
      "Electricity Bill: 2250.0 Rs\n"
     ]
    }
   ],
   "source": [
    "unit = int(input(\"Enter input units: \"))\n",
    "slot1 = min(100, unit)\n",
    "slot2 = min(100, max(unit-100, 0))\n",
    "slot3 = min(100, max(unit-200, 0))\n",
    "slot4 = max(0, unit-300)\n",
    "\n",
    "# print([slot1, slot2, slot3, slot4])\n",
    "\n",
    "bill = (slot1*4.5) + (slot2*6) + (slot3*10) + (slot4*20)\n",
    "\n",
    "print(\"Electricity Bill:\",bill,\"Rs\")"
   ]
  },
  {
   "cell_type": "markdown",
   "id": "e00c0013",
   "metadata": {},
   "source": [
    "Q4. Create a list of numbers from 1 to 100. Use for loop and while loop to calculate the cube of each number and if the cube of that number is divisible by 4 or 5 then append that number in a list and print that list."
   ]
  },
  {
   "cell_type": "code",
   "execution_count": 16,
   "id": "9201088a",
   "metadata": {},
   "outputs": [],
   "source": [
    "l = [ i for i in range(1,101)]"
   ]
  },
  {
   "cell_type": "code",
   "execution_count": 18,
   "id": "34b71327",
   "metadata": {},
   "outputs": [
    {
     "name": "stdout",
     "output_type": "stream",
     "text": [
      "[8, 64, 125, 216, 512, 1000, 1728, 2744, 3375, 4096, 5832, 8000, 10648, 13824, 15625, 17576, 21952, 27000, 32768, 39304, 42875, 46656, 54872, 64000, 74088, 85184, 91125, 97336, 110592, 125000, 140608, 157464, 166375, 175616, 195112, 216000, 238328, 262144, 274625, 287496, 314432, 343000, 373248, 405224, 421875, 438976, 474552, 512000, 551368, 592704, 614125, 636056, 681472, 729000, 778688, 830584, 857375, 884736, 941192, 1000000]\n"
     ]
    }
   ],
   "source": [
    "# using for loop for cubing number\n",
    "l1 = []\n",
    "for i in l:\n",
    "    num = 1\n",
    "    for j in range(3):\n",
    "        num *= i\n",
    "    if num % 4 == 0 or num % 5 == 0:\n",
    "        l1.append(num)\n",
    "print(l1)"
   ]
  },
  {
   "cell_type": "code",
   "execution_count": 19,
   "id": "fcabcf1b",
   "metadata": {},
   "outputs": [
    {
     "name": "stdout",
     "output_type": "stream",
     "text": [
      "[8, 64, 125, 216, 512, 1000, 1728, 2744, 3375, 4096, 5832, 8000, 10648, 13824, 15625, 17576, 21952, 27000, 32768, 39304, 42875, 46656, 54872, 64000, 74088, 85184, 91125, 97336, 110592, 125000, 140608, 157464, 166375, 175616, 195112, 216000, 238328, 262144, 274625, 287496, 314432, 343000, 373248, 405224, 421875, 438976, 474552, 512000, 551368, 592704, 614125, 636056, 681472, 729000, 778688, 830584, 857375, 884736, 941192, 1000000]\n"
     ]
    }
   ],
   "source": [
    "# using while loop for cubing number\n",
    "l1 = []\n",
    "for i in l:\n",
    "    num = 1\n",
    "    j = 0\n",
    "    \n",
    "    while j < 3:\n",
    "        num *= i\n",
    "        j += 1\n",
    "        \n",
    "    if num % 4 == 0 or num % 5 == 0:\n",
    "        l1.append(num)\n",
    "print(l1)"
   ]
  },
  {
   "cell_type": "markdown",
   "id": "18c37b4b",
   "metadata": {},
   "source": [
    "Q5. Write a program to filter count vowels in the below-given string.\n",
    "string = \"I want to become a data scientist\""
   ]
  },
  {
   "cell_type": "code",
   "execution_count": 23,
   "id": "2cef5f40",
   "metadata": {},
   "outputs": [
    {
     "name": "stdout",
     "output_type": "stream",
     "text": [
      "12\n"
     ]
    }
   ],
   "source": [
    "string = \"I want to become a data scientist\"\n",
    "count = 0\n",
    "\n",
    "for ch in string:\n",
    "    if ch in ['a', 'e', 'i', 'o', 'u' , 'A', 'E', 'I', 'O', 'U']:\n",
    "        count += 1\n",
    "#         print(ch, end=\" \")\n",
    "print(count)"
   ]
  },
  {
   "cell_type": "code",
   "execution_count": null,
   "id": "67ccb50c",
   "metadata": {},
   "outputs": [],
   "source": []
  }
 ],
 "metadata": {
  "kernelspec": {
   "display_name": "Python 3 (ipykernel)",
   "language": "python",
   "name": "python3"
  },
  "language_info": {
   "codemirror_mode": {
    "name": "ipython",
    "version": 3
   },
   "file_extension": ".py",
   "mimetype": "text/x-python",
   "name": "python",
   "nbconvert_exporter": "python",
   "pygments_lexer": "ipython3",
   "version": "3.9.13"
  }
 },
 "nbformat": 4,
 "nbformat_minor": 5
}
