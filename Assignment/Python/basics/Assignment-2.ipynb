{
 "cells": [
  {
   "cell_type": "markdown",
   "id": "2bd14d60",
   "metadata": {},
   "source": [
    "1. Write a program to accept percentage from the user and display the grade according to the following criteria:\n",
    "\n",
    "Marks          Grade\n",
    " >90              A\n",
    " >80and<=90       B\n",
    " >=60and<=80      C\n",
    " below 60         D"
   ]
  },
  {
   "cell_type": "code",
   "execution_count": 12,
   "id": "3103d958",
   "metadata": {},
   "outputs": [
    {
     "name": "stdout",
     "output_type": "stream",
     "text": [
      "Enter marks in percentage: 90\n",
      "Grade: B\n"
     ]
    }
   ],
   "source": [
    "marks = int(input(\"Enter marks in percentage: \"))\n",
    "\n",
    "grade = ''\n",
    "\n",
    "if marks > 90:\n",
    "    grade = 'A'\n",
    "elif marks > 80:\n",
    "    grade = 'B'\n",
    "elif marks >= 60:\n",
    "    grade = 'C'\n",
    "else:\n",
    "    grade = 'D'\n",
    "\n",
    "print(\"Grade:\",grade)\n"
   ]
  },
  {
   "cell_type": "markdown",
   "id": "f6405b5c",
   "metadata": {},
   "source": [
    "2. Write a program to accept the cost price of a bike and display the road tax to be paid according to following criteria:\n",
    "\n",
    "Tax                     cost price(in Rs)\n",
    "15%                        >100000\n",
    "10%                        >50000 and <= 100000\n",
    "5%                         <= 50000"
   ]
  },
  {
   "cell_type": "code",
   "execution_count": 11,
   "id": "50331841",
   "metadata": {},
   "outputs": [
    {
     "name": "stdout",
     "output_type": "stream",
     "text": [
      "Enter the cost price of a bike: 100001\n",
      "Tax to be paid: 15000.15\n"
     ]
    }
   ],
   "source": [
    "costPrice = int(input(\"Enter the cost price of a bike: \"))\n",
    "tax = 0\n",
    "if costPrice > 100000:\n",
    "    tax = costPrice * 0.15\n",
    "elif costPrice > 50000:\n",
    "    tax = costPrice * 0.1\n",
    "else:\n",
    "    tax = costPrice * 0.05\n",
    "\n",
    "print(\"Tax to be paid:\",tax)"
   ]
  },
  {
   "cell_type": "markdown",
   "id": "309503de",
   "metadata": {},
   "source": [
    "3. Accept any city from the user and display the monument\n",
    "\n",
    "City             Monument\n",
    "Delhi            Red Fort\n",
    "Agra             Taj Mahal\n",
    "Jaipur           Jal Mahal"
   ]
  },
  {
   "cell_type": "code",
   "execution_count": 14,
   "id": "9eb0238d",
   "metadata": {},
   "outputs": [
    {
     "name": "stdout",
     "output_type": "stream",
     "text": [
      "Enter the name of your city: jAipUR\n",
      "Jal Mahal\n"
     ]
    }
   ],
   "source": [
    "city = input(\"Enter the name of your city: \").lower()\n",
    "monument = ''\n",
    "if city == 'delhi':\n",
    "    monument = 'Red Fort'\n",
    "elif city == 'agra':\n",
    "    monument = 'Taj Mahal'\n",
    "elif city == 'jaipur':\n",
    "    monument = 'Jal Mahal'\n",
    "else:\n",
    "    monument= 'Enter a valid city'\n",
    "\n",
    "print(monument)"
   ]
  },
  {
   "cell_type": "markdown",
   "id": "55ebbc86",
   "metadata": {},
   "source": [
    "4. Check how many times a given number can be divided by 3 before it is less than or equal to 10."
   ]
  },
  {
   "cell_type": "code",
   "execution_count": 19,
   "id": "a5b6bcde",
   "metadata": {},
   "outputs": [
    {
     "name": "stdout",
     "output_type": "stream",
     "text": [
      "Enter the number: 100\n",
      "Number 100 is divisible by 3 => 3 times\n"
     ]
    }
   ],
   "source": [
    "num = int(input(\"Enter the number: \"))\n",
    "onum = num\n",
    "count = 0\n",
    "\n",
    "while num > 10:\n",
    "    num //= 3\n",
    "    count += 1\n",
    "print(f\"Number {onum} is divisible by 3 => {count} times\")\n"
   ]
  },
  {
   "cell_type": "markdown",
   "id": "61e8c44e",
   "metadata": {},
   "source": [
    "5. Why and when to use while loop in python. give a detailed description with example"
   ]
  },
  {
   "cell_type": "markdown",
   "id": "a7d40cf2",
   "metadata": {},
   "source": [
    "In General While loop is used only when we don't know the fixed number of iterations. i.e. we are sure about the ending condition of the loop but don't know how many times while loop will be used.\n",
    "\n",
    "for example: In the previous question it has been asked that how many times a given number will be divisible by 3 till it becomes lesser than 10. in this case for each number answer will be different. for 100 it will be 3 and for 50 it will be 2 and so on. here , we know the stopping condition i.e.\n",
    "number will be greater than or equal to 10 in order to run the loop. but we don't know how many times while loop will run. for 100 while loop will run 3 times , for 50 it will be 2 and so on. i.e. in a nut shell we can say we know only stopping condition of the loop not the number of iterations.In such cases while loop will be fruitful.\n"
   ]
  },
  {
   "cell_type": "markdown",
   "id": "9f2b001c",
   "metadata": {},
   "source": [
    "6. Use Nested while loop to print 3 different pattern"
   ]
  },
  {
   "cell_type": "code",
   "execution_count": 20,
   "id": "2b5947bf",
   "metadata": {},
   "outputs": [
    {
     "name": "stdout",
     "output_type": "stream",
     "text": [
      "Enter number of rows: 5\n",
      "* * * * * \n",
      "* * * * \n",
      "* * * \n",
      "* * \n",
      "* \n",
      "\n"
     ]
    }
   ],
   "source": [
    "# pattern-1\n",
    "n = int(input(\"Enter number of rows: \"))\n",
    "\n",
    "for r in range(n,-1,-1):\n",
    "    for c in range(r):\n",
    "        print(\"* \",end=\"\")\n",
    "    print()"
   ]
  },
  {
   "cell_type": "code",
   "execution_count": 22,
   "id": "1fdba07b",
   "metadata": {},
   "outputs": [
    {
     "name": "stdout",
     "output_type": "stream",
     "text": [
      "Enter number of rows: 5\n",
      "* \n",
      "* * \n",
      "* * * \n",
      "* * * * \n",
      "* * * * * \n"
     ]
    }
   ],
   "source": [
    "# pattern-2\n",
    "n = int(input(\"Enter number of rows: \"))\n",
    "\n",
    "for r in range(n):\n",
    "    for c in range(r+1):\n",
    "        print(\"* \",end=\"\")\n",
    "    print()"
   ]
  },
  {
   "cell_type": "code",
   "execution_count": null,
   "id": "89a5aaa9",
   "metadata": {},
   "outputs": [],
   "source": [
    "# pattern-3"
   ]
  },
  {
   "cell_type": "code",
   "execution_count": 4,
   "id": "b66afb8e",
   "metadata": {},
   "outputs": [
    {
     "name": "stdout",
     "output_type": "stream",
     "text": [
      "Enter number of rows: 5\n",
      "            * \n",
      "          * * \n",
      "        * * * \n",
      "      * * * * \n",
      "    * * * * * \n"
     ]
    }
   ],
   "source": [
    "n = int(input(\"Enter number of rows: \"))\n",
    "\n",
    "for r in range(n):\n",
    "    for c in range(n-r+1):\n",
    "        print(\"  \", end=\"\")\n",
    "    for c in range(r+1):\n",
    "        print(\"*\", end=\" \")\n",
    "    print()"
   ]
  },
  {
   "cell_type": "markdown",
   "id": "a8a2f721",
   "metadata": {},
   "source": [
    "7. Reverse a while loop to display numbers from 10 to 1"
   ]
  },
  {
   "cell_type": "code",
   "execution_count": 2,
   "id": "141ab66b",
   "metadata": {},
   "outputs": [
    {
     "name": "stdout",
     "output_type": "stream",
     "text": [
      "10 9 8 7 6 5 4 3 2 1 \n"
     ]
    }
   ],
   "source": [
    "end = 10\n",
    "\n",
    "while end > 0:\n",
    "    print(end, end=\" \")\n",
    "    end -= 1\n",
    "print()"
   ]
  },
  {
   "cell_type": "code",
   "execution_count": null,
   "id": "624b80ae",
   "metadata": {},
   "outputs": [],
   "source": []
  }
 ],
 "metadata": {
  "kernelspec": {
   "display_name": "Python 3 (ipykernel)",
   "language": "python",
   "name": "python3"
  },
  "language_info": {
   "codemirror_mode": {
    "name": "ipython",
    "version": 3
   },
   "file_extension": ".py",
   "mimetype": "text/x-python",
   "name": "python",
   "nbconvert_exporter": "python",
   "pygments_lexer": "ipython3",
   "version": "3.9.13"
  }
 },
 "nbformat": 4,
 "nbformat_minor": 5
}
