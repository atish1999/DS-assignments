{
 "cells": [
  {
   "cell_type": "markdown",
   "id": "3a194733",
   "metadata": {},
   "source": [
    "Q1. Which keyword is used to create a function? Create a function to return a list of odd numbers in the\n",
    "range of 1 to 25."
   ]
  },
  {
   "cell_type": "markdown",
   "id": "3ff94b09",
   "metadata": {},
   "source": [
    "\"def\" keyword is used to create a function"
   ]
  },
  {
   "cell_type": "code",
   "execution_count": 1,
   "id": "e14f122d",
   "metadata": {},
   "outputs": [],
   "source": [
    "def odd_num_generator():\n",
    "    return [i for i in range(1, 26) if i&1 == 1]"
   ]
  },
  {
   "cell_type": "code",
   "execution_count": 2,
   "id": "b087ced8",
   "metadata": {},
   "outputs": [
    {
     "data": {
      "text/plain": [
       "[1, 3, 5, 7, 9, 11, 13, 15, 17, 19, 21, 23, 25]"
      ]
     },
     "execution_count": 2,
     "metadata": {},
     "output_type": "execute_result"
    }
   ],
   "source": [
    "odd_num_generator()"
   ]
  },
  {
   "cell_type": "markdown",
   "id": "02aec0e7",
   "metadata": {},
   "source": [
    "Q2. Why **args and **kwargs is used in some functions? Create a function each for **args and ***kwargs\n",
    "to demonstrate their use."
   ]
  },
  {
   "cell_type": "markdown",
   "id": "53c8efd6",
   "metadata": {},
   "source": [
    "\"*args\" keyword is used if we want to have variable length of arguments of a function i.e. we don't know how many arguments we are going to pass for a function.\n",
    "\n",
    "\"**kwargs\" keyword is used if we want to pass data in the form of key value pair.here also we can pass any number of data as arguments in the form of key value pair"
   ]
  },
  {
   "cell_type": "code",
   "execution_count": 3,
   "id": "86403e4b",
   "metadata": {},
   "outputs": [],
   "source": [
    "# *args example\n",
    "\n",
    "def getData(*args):\n",
    "    return [i for i in args]"
   ]
  },
  {
   "cell_type": "code",
   "execution_count": 4,
   "id": "74bb4730",
   "metadata": {},
   "outputs": [
    {
     "data": {
      "text/plain": [
       "[1]"
      ]
     },
     "execution_count": 4,
     "metadata": {},
     "output_type": "execute_result"
    }
   ],
   "source": [
    "getData(1) # passing 1 argument"
   ]
  },
  {
   "cell_type": "code",
   "execution_count": 8,
   "id": "a40b74e2",
   "metadata": {},
   "outputs": [
    {
     "data": {
      "text/plain": [
       "[]"
      ]
     },
     "execution_count": 8,
     "metadata": {},
     "output_type": "execute_result"
    }
   ],
   "source": [
    "getData() # passing no argument"
   ]
  },
  {
   "cell_type": "code",
   "execution_count": 9,
   "id": "c75e980e",
   "metadata": {},
   "outputs": [
    {
     "data": {
      "text/plain": [
       "[1, 3, 4, 5, 56]"
      ]
     },
     "execution_count": 9,
     "metadata": {},
     "output_type": "execute_result"
    }
   ],
   "source": [
    "getData(1,3,4,5,56) # passing more than 1 argument"
   ]
  },
  {
   "cell_type": "code",
   "execution_count": 10,
   "id": "4aa06c76",
   "metadata": {},
   "outputs": [],
   "source": [
    "# **kwargs example\n",
    "\n",
    "def getDataPair(**kwargs):\n",
    "    return {k:v for k,v in kwargs.items()}"
   ]
  },
  {
   "cell_type": "code",
   "execution_count": 11,
   "id": "798e47b0",
   "metadata": {},
   "outputs": [
    {
     "data": {
      "text/plain": [
       "{'name': 'atish', 'course': 'data-science'}"
      ]
     },
     "execution_count": 11,
     "metadata": {},
     "output_type": "execute_result"
    }
   ],
   "source": [
    "getDataPair(name='atish', course='data-science')"
   ]
  },
  {
   "cell_type": "code",
   "execution_count": 12,
   "id": "7c214189",
   "metadata": {},
   "outputs": [
    {
     "data": {
      "text/plain": [
       "{'a': 1, 'b': 2, 'c': 3, 'd': 8}"
      ]
     },
     "execution_count": 12,
     "metadata": {},
     "output_type": "execute_result"
    }
   ],
   "source": [
    "getDataPair(a=1,b=2,c=3,d=8)"
   ]
  },
  {
   "cell_type": "markdown",
   "id": "c3f41b99",
   "metadata": {},
   "source": [
    "Q3. What is an iterator in python? Name the method used to initialise the iterator object and the method\n",
    "used for iteration. Use these methods to print the first five elements of the given list [2, 4, 6, 8, 10, 12, 14,\n",
    "16, 18, 20]."
   ]
  },
  {
   "cell_type": "markdown",
   "id": "0ede96d4",
   "metadata": {},
   "source": [
    "iterator: iterator is an object which helps us to traverse through all the elements of the iterable like list, set, tuple etc.\n",
    "\n",
    "\"iter()\" method is used to initialise the iterator object.\n",
    "\"next()\" method is used for iteration"
   ]
  },
  {
   "cell_type": "code",
   "execution_count": 13,
   "id": "a725dce4",
   "metadata": {},
   "outputs": [],
   "source": [
    "l = [2, 4, 6, 8, 10, 12, 14, 16, 18, 20]"
   ]
  },
  {
   "cell_type": "code",
   "execution_count": 14,
   "id": "d8ce928b",
   "metadata": {},
   "outputs": [],
   "source": [
    "it = iter(l)"
   ]
  },
  {
   "cell_type": "code",
   "execution_count": 16,
   "id": "6af4d36b",
   "metadata": {},
   "outputs": [
    {
     "name": "stdout",
     "output_type": "stream",
     "text": [
      "2 4 6 8 10 "
     ]
    }
   ],
   "source": [
    "for i in range(5):\n",
    "    print(next(it), end= \" \")"
   ]
  },
  {
   "cell_type": "raw",
   "id": "45ebbb11",
   "metadata": {},
   "source": [
    "Q4. What is a generator function in python? Why yield keyword is used? Give an example of a generator\n",
    "function."
   ]
  },
  {
   "cell_type": "markdown",
   "id": "c38e0c49",
   "metadata": {},
   "source": [
    "generator function is a function which helps to generate sequence of values.but here instead of generating all the values together and then storing those inside a data structure it gives a generator object which is an iterator.then when we iterate through all the values one by one at that time it generates one data one by one and then give the data. which is much more memory efficient."
   ]
  },
  {
   "cell_type": "markdown",
   "id": "1c363cba",
   "metadata": {},
   "source": [
    "\"yield\" keyword is used for creating the generator function."
   ]
  },
  {
   "cell_type": "code",
   "execution_count": 17,
   "id": "b5695a91",
   "metadata": {},
   "outputs": [],
   "source": [
    "# example of generator function\n",
    "def dataGen(n):\n",
    "    \n",
    "    start = 0\n",
    "    \n",
    "    while start < n:\n",
    "        yield start\n",
    "        start += 1"
   ]
  },
  {
   "cell_type": "code",
   "execution_count": 18,
   "id": "768845c9",
   "metadata": {},
   "outputs": [
    {
     "data": {
      "text/plain": [
       "<generator object dataGen at 0x7f50d679b430>"
      ]
     },
     "execution_count": 18,
     "metadata": {},
     "output_type": "execute_result"
    }
   ],
   "source": [
    "dataGen(5)"
   ]
  },
  {
   "cell_type": "code",
   "execution_count": 19,
   "id": "f370216f",
   "metadata": {},
   "outputs": [
    {
     "name": "stdout",
     "output_type": "stream",
     "text": [
      "0 1 2 3 4 "
     ]
    }
   ],
   "source": [
    "for i in dataGen(5):\n",
    "    print(i, end=\" \")"
   ]
  },
  {
   "cell_type": "markdown",
   "id": "f75cdc28",
   "metadata": {},
   "source": [
    "Q5. Create a generator function for prime numbers less than 1000. Use the next() method to print the\n",
    "first 20 prime numbers."
   ]
  },
  {
   "cell_type": "code",
   "execution_count": 1,
   "id": "ce00a203",
   "metadata": {},
   "outputs": [],
   "source": [
    "def primeGenerator():\n",
    "    \n",
    "    limit = 1000\n",
    "    \n",
    "    for num in range(2, limit):\n",
    "        \n",
    "        d = 2\n",
    "        flag = 1\n",
    "        \n",
    "        while d*d <= num:\n",
    "            if num%d == 0:\n",
    "                flag = 0\n",
    "                break\n",
    "            d += 1\n",
    "        if flag:\n",
    "            yield num\n",
    "    "
   ]
  },
  {
   "cell_type": "code",
   "execution_count": 2,
   "id": "1e190807",
   "metadata": {},
   "outputs": [],
   "source": [
    "pG = primeGenerator()"
   ]
  },
  {
   "cell_type": "code",
   "execution_count": 3,
   "id": "67b87512",
   "metadata": {},
   "outputs": [
    {
     "name": "stdout",
     "output_type": "stream",
     "text": [
      "2 3 5 7 11 13 17 19 23 29 31 37 41 43 47 53 59 61 67 71 "
     ]
    }
   ],
   "source": [
    "for i in range(20):\n",
    "    print(next(pG), end=\" \")"
   ]
  },
  {
   "cell_type": "markdown",
   "id": "a1aa008c",
   "metadata": {},
   "source": [
    "Q6. Write a python program to print the first 10 Fibonacci numbers using a while loop."
   ]
  },
  {
   "cell_type": "code",
   "execution_count": 4,
   "id": "8bc26f2b",
   "metadata": {},
   "outputs": [],
   "source": [
    "def fibonacciGenerator():\n",
    "    \n",
    "    a,b=0,1\n",
    "    \n",
    "    for i in range(10):\n",
    "        print(a, end=\" \")\n",
    "        a,b = a+b, a"
   ]
  },
  {
   "cell_type": "code",
   "execution_count": 5,
   "id": "70eaef8f",
   "metadata": {},
   "outputs": [
    {
     "name": "stdout",
     "output_type": "stream",
     "text": [
      "0 1 1 2 3 5 8 13 21 34 "
     ]
    }
   ],
   "source": [
    "fibonacciGenerator()"
   ]
  },
  {
   "cell_type": "markdown",
   "id": "121e3972",
   "metadata": {},
   "source": [
    "Q7. Write a List Comprehension to iterate through the given string: ‘pwskills’.\n",
    "Expected output: ['p', 'w', 's', 'k', 'i', 'l', 'l', 's']"
   ]
  },
  {
   "cell_type": "code",
   "execution_count": 6,
   "id": "7fc9722d",
   "metadata": {},
   "outputs": [
    {
     "data": {
      "text/plain": [
       "['p', 'w', 's', 'k', 'i', 'l', 'l', 's']"
      ]
     },
     "execution_count": 6,
     "metadata": {},
     "output_type": "execute_result"
    }
   ],
   "source": [
    "[ch for ch in \"pwskills\"]"
   ]
  },
  {
   "cell_type": "markdown",
   "id": "99f15d4a",
   "metadata": {},
   "source": [
    "Q8. Write a python program to check whether a given number is Palindrome or not using a while loop."
   ]
  },
  {
   "cell_type": "code",
   "execution_count": 18,
   "id": "5c72d9ab",
   "metadata": {},
   "outputs": [],
   "source": [
    "def isPalindrome(num):\n",
    "    num = str(num)\n",
    "    l , r = 0, len(num)-1\n",
    "    \n",
    "    flag = 1\n",
    "    \n",
    "    while l < r:\n",
    "        if num[l]!=num[r]:\n",
    "            flag = 0\n",
    "            break\n",
    "        l,r = l+1,r-1\n",
    "        \n",
    "    return f\"{num} is palindrome\" if flag else f\"{num} is not a palindrome\""
   ]
  },
  {
   "cell_type": "code",
   "execution_count": 19,
   "id": "413e7fc2",
   "metadata": {},
   "outputs": [
    {
     "data": {
      "text/plain": [
       "'1221 is palindrome'"
      ]
     },
     "execution_count": 19,
     "metadata": {},
     "output_type": "execute_result"
    }
   ],
   "source": [
    "isPalindrome(1221)"
   ]
  },
  {
   "cell_type": "code",
   "execution_count": 20,
   "id": "267d6b45",
   "metadata": {},
   "outputs": [
    {
     "data": {
      "text/plain": [
       "'121 is palindrome'"
      ]
     },
     "execution_count": 20,
     "metadata": {},
     "output_type": "execute_result"
    }
   ],
   "source": [
    "isPalindrome(121)"
   ]
  },
  {
   "cell_type": "code",
   "execution_count": 21,
   "id": "9c583500",
   "metadata": {},
   "outputs": [
    {
     "data": {
      "text/plain": [
       "'12 is not a palindrome'"
      ]
     },
     "execution_count": 21,
     "metadata": {},
     "output_type": "execute_result"
    }
   ],
   "source": [
    "isPalindrome(12)"
   ]
  },
  {
   "cell_type": "markdown",
   "id": "11809e96",
   "metadata": {},
   "source": [
    "Q9. Write a code to print odd numbers from 1 to 100 using list comprehension.\n",
    "Note: Use a list comprehension to create a list from 1 to 100 and use another List comprehension to filter\n",
    "out odd numbers."
   ]
  },
  {
   "cell_type": "code",
   "execution_count": 26,
   "id": "836ef8fc",
   "metadata": {},
   "outputs": [],
   "source": [
    "l = [num for num in range(1,101)]"
   ]
  },
  {
   "cell_type": "code",
   "execution_count": 28,
   "id": "9771262d",
   "metadata": {},
   "outputs": [
    {
     "name": "stdout",
     "output_type": "stream",
     "text": [
      "[1, 2, 3, 4, 5, 6, 7, 8, 9, 10, 11, 12, 13, 14, 15, 16, 17, 18, 19, 20, 21, 22, 23, 24, 25, 26, 27, 28, 29, 30, 31, 32, 33, 34, 35, 36, 37, 38, 39, 40, 41, 42, 43, 44, 45, 46, 47, 48, 49, 50, 51, 52, 53, 54, 55, 56, 57, 58, 59, 60, 61, 62, 63, 64, 65, 66, 67, 68, 69, 70, 71, 72, 73, 74, 75, 76, 77, 78, 79, 80, 81, 82, 83, 84, 85, 86, 87, 88, 89, 90, 91, 92, 93, 94, 95, 96, 97, 98, 99, 100]\n"
     ]
    }
   ],
   "source": [
    "print(l)"
   ]
  },
  {
   "cell_type": "code",
   "execution_count": 29,
   "id": "da5e7b46",
   "metadata": {},
   "outputs": [],
   "source": [
    "odd = [i for i in range(1, 101) if i&1==1]"
   ]
  },
  {
   "cell_type": "code",
   "execution_count": 30,
   "id": "7f953b40",
   "metadata": {},
   "outputs": [
    {
     "name": "stdout",
     "output_type": "stream",
     "text": [
      "[1, 3, 5, 7, 9, 11, 13, 15, 17, 19, 21, 23, 25, 27, 29, 31, 33, 35, 37, 39, 41, 43, 45, 47, 49, 51, 53, 55, 57, 59, 61, 63, 65, 67, 69, 71, 73, 75, 77, 79, 81, 83, 85, 87, 89, 91, 93, 95, 97, 99]\n"
     ]
    }
   ],
   "source": [
    "print(odd)"
   ]
  },
  {
   "cell_type": "code",
   "execution_count": null,
   "id": "02f83963",
   "metadata": {},
   "outputs": [],
   "source": []
  }
 ],
 "metadata": {
  "kernelspec": {
   "display_name": "Python 3 (ipykernel)",
   "language": "python",
   "name": "python3"
  },
  "language_info": {
   "codemirror_mode": {
    "name": "ipython",
    "version": 3
   },
   "file_extension": ".py",
   "mimetype": "text/x-python",
   "name": "python",
   "nbconvert_exporter": "python",
   "pygments_lexer": "ipython3",
   "version": "3.9.13"
  }
 },
 "nbformat": 4,
 "nbformat_minor": 5
}
